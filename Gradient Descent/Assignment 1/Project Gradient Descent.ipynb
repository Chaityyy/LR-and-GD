{
 "cells": [
  {
   "cell_type": "code",
   "execution_count": 33,
   "metadata": {},
   "outputs": [],
   "source": [
    "import numpy as np\n",
    "from sklearn import preprocessing"
   ]
  },
  {
   "cell_type": "code",
   "execution_count": 34,
   "metadata": {},
   "outputs": [],
   "source": [
    "train_data = np.genfromtxt('training_boston_x_y_train.csv', delimiter=\",\")\n",
    "test_data = np.genfromtxt('test_boston_x_test.csv', delimiter=\",\")"
   ]
  },
  {
   "cell_type": "code",
   "execution_count": 35,
   "metadata": {},
   "outputs": [],
   "source": [
    "x_train_data = train_data[:,:-1]\n",
    "y_train_data = train_data[:,-1]"
   ]
  },
  {
   "cell_type": "code",
   "execution_count": 36,
   "metadata": {},
   "outputs": [
    {
     "data": {
      "text/plain": [
       "(127, 13)"
      ]
     },
     "execution_count": 36,
     "metadata": {},
     "output_type": "execute_result"
    }
   ],
   "source": [
    "test_data.shape"
   ]
  },
  {
   "cell_type": "code",
   "execution_count": 37,
   "metadata": {},
   "outputs": [],
   "source": [
    "scaler = preprocessing.StandardScaler()\n",
    "scaler.fit(x_train_data)\n",
    "train_data = scaler.transform(x_train_data)"
   ]
  },
  {
   "cell_type": "code",
   "execution_count": 38,
   "metadata": {},
   "outputs": [],
   "source": [
    "def step_gradient(points, learning_rate, m):\n",
    "    m_slope = [0]*(len(m)-1)\n",
    "    c_slope = 0\n",
    "    M = points.shape[0]\n",
    "    for i in range(M):\n",
    "        c = m[-1]\n",
    "        yi = points[i, -1]\n",
    "        for j in range(len(m)-1):\n",
    "            xi = points[i, j]\n",
    "            m_slope[j] += (-2/M)* (yi - m[j] * xi - c)*xi\n",
    "            c_slope += (-2/M)* (yi - m[j] * xi - c)\n",
    "            \n",
    "    new_m = []\n",
    "    for i in range(len(m)-1):\n",
    "        new_m.append(m[i] - learning_rate*m_slope[i])\n",
    "    new_m.append(m[-1] - learning_rate*c_slope)    \n",
    "    return new_m\n",
    "\n",
    "# def cost(points, m):\n",
    "#     total_cost = 0\n",
    "#     M = points.shape[0]\n",
    "#     for i in range(M):\n",
    "#         c = m[-1]\n",
    "#         y = points[i, -1]\n",
    "#         mx = 0\n",
    "#         for j in range(len(m)-1):\n",
    "#             x = points[i, j]  \n",
    "#             mx += m[j]*x\n",
    "            \n",
    "#         total_cost += (1/M)*((y - mx - c)**2)\n",
    "#     return total_cost\n",
    "\n",
    "def gd(points, learning_rate, num_iterations):\n",
    "    m = [0]*(points.shape[1])\n",
    "    for i in range(num_iterations):\n",
    "        m = step_gradient(points, learning_rate, m)\n",
    "#         print(i, \" Cost: \", cost(points, m))\n",
    "    return m"
   ]
  },
  {
   "cell_type": "code",
   "execution_count": 39,
   "metadata": {},
   "outputs": [],
   "source": [
    "train_data = np.append(x_train_data,y_train_data.reshape(-1,1),axis=1)\n",
    "m = gd(train_data, 0.0001, 200)"
   ]
  },
  {
   "cell_type": "code",
   "execution_count": 40,
   "metadata": {},
   "outputs": [
    {
     "name": "stdout",
     "output_type": "stream",
     "text": [
      "[-0.13074864302560438, 0.117544277519409, -0.15577944680707412, 0.08716293695404603, -0.1333279895616575, 0.2697576431792617, -0.10280545932185042, 0.08718822791822006, -0.10189610928204881, -0.13728053128716847, -0.16845760417077402, 0.11206266682458453, -0.26468566408922767, 9.177199519051362]\n"
     ]
    }
   ],
   "source": [
    "print(m)\n",
    "y = []"
   ]
  },
  {
   "cell_type": "code",
   "execution_count": 41,
   "metadata": {},
   "outputs": [],
   "source": [
    "test_data = scaler.transform(test_data)"
   ]
  },
  {
   "cell_type": "code",
   "execution_count": 42,
   "metadata": {},
   "outputs": [],
   "source": [
    "c = m[-1]\n",
    "for i in range(test_data.shape[0]):\n",
    "    mx = 0\n",
    "    for j in range(len(m)-1):\n",
    "        mx += m[j]*test_data[i][j]\n",
    "        \n",
    "    val = mx+c\n",
    "    y.append(val)"
   ]
  },
  {
   "cell_type": "code",
   "execution_count": 43,
   "metadata": {},
   "outputs": [],
   "source": [
    "np.savetxt('predictions2.csv',y,fmt='%f')"
   ]
  },
  {
   "cell_type": "code",
   "execution_count": null,
   "metadata": {},
   "outputs": [],
   "source": []
  }
 ],
 "metadata": {
  "kernelspec": {
   "display_name": "Python 3",
   "language": "python",
   "name": "python3"
  },
  "language_info": {
   "codemirror_mode": {
    "name": "ipython",
    "version": 3
   },
   "file_extension": ".py",
   "mimetype": "text/x-python",
   "name": "python",
   "nbconvert_exporter": "python",
   "pygments_lexer": "ipython3",
   "version": "3.8.5"
  }
 },
 "nbformat": 4,
 "nbformat_minor": 4
}
